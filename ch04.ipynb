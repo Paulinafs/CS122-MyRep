{
  "cells": [
    {
      "cell_type": "markdown",
      "metadata": {
        "id": "U4eN3nWMZRzR"
      },
      "source": [
        "<img src=\"https://nimbus-screenshots.s3.amazonaws.com/s/85a61d1e5ea3b6f4e340944f58844dd2.png\" width=640>\n",
        "\n",
        "</a>\n",
        "# <p style=\"font-family: Arial; font-size:1.4em;color:red;\"> Chapter 4. Repetition Structures </p>"
      ]
    },
    {
      "cell_type": "markdown",
      "metadata": {
        "id": "r9-9nAShZRzT"
      },
      "source": [
        "***\n",
        "\n",
        "## <p style=\"background-color: grey; color: white \"> ◼️  While loop </p>\n",
        "# <p style=\"font-family: Arial; font-size:1.4em;color:red;\"> 1. Basic While-loop Structures</p>\n"
      ]
    },
    {
      "cell_type": "markdown",
      "metadata": {
        "id": "2kTsAGZkZRzU"
      },
      "source": [
        "#### <p style=\"font-family: Arial; font-size:1.4em; background-color: yellow; color:black;\"> Problem #1.0 </p>\n",
        "\n",
        "#### Run all the cells and figure out the basic usage of while loop structure"
      ]
    },
    {
      "cell_type": "code",
      "execution_count": 1,
      "metadata": {
        "colab": {
          "base_uri": "https://localhost:8080/"
        },
        "id": "NvowA_HgZRzV",
        "outputId": "6ac9d88f-5688-43d6-da25-2983fae0e162"
      },
      "outputs": [
        {
          "output_type": "stream",
          "name": "stdout",
          "text": [
            "1 2 3 4 5 6 7 8 9 10 "
          ]
        }
      ],
      "source": [
        "i = 0\n",
        "while (i < 10):\n",
        "\ti = i + 1\n",
        "\tprint (i, end=' ')"
      ]
    },
    {
      "cell_type": "code",
      "execution_count": 2,
      "metadata": {
        "colab": {
          "base_uri": "https://localhost:8080/"
        },
        "id": "_wdIElDbZRzW",
        "outputId": "afd573bf-20fd-42a9-a0f0-121194c3e4b7"
      },
      "outputs": [
        {
          "output_type": "stream",
          "name": "stdout",
          "text": [
            "0 1 2 3 4 5 6 7 8 9 "
          ]
        }
      ],
      "source": [
        "i = 0\n",
        "while ( i< 10):\n",
        "\tprint (i, end=' ')\n",
        "\ti = i + 1"
      ]
    },
    {
      "cell_type": "code",
      "execution_count": 3,
      "metadata": {
        "colab": {
          "base_uri": "https://localhost:8080/"
        },
        "id": "eyAsy-QRZRzW",
        "outputId": "161174bf-0e4f-42ff-ee6b-b7212ce22538"
      },
      "outputs": [
        {
          "output_type": "stream",
          "name": "stdout",
          "text": [
            "0 2 4 6 8 "
          ]
        }
      ],
      "source": [
        "i = 0\n",
        "while ( i < 10):\n",
        "\tprint (i, end=' ')\n",
        "\ti = i + 2"
      ]
    },
    {
      "cell_type": "code",
      "execution_count": 4,
      "metadata": {
        "colab": {
          "base_uri": "https://localhost:8080/"
        },
        "id": "uEDXRqhYZRzX",
        "outputId": "c9f19a73-1eea-4e2f-e5d6-703cca9f1ba6"
      },
      "outputs": [
        {
          "output_type": "stream",
          "name": "stdout",
          "text": [
            "10 9 8 7 6 5 4 3 2 1 "
          ]
        }
      ],
      "source": [
        "i = 10\n",
        "while ( i > 0):\n",
        "\tprint (i, end=' ')\n",
        "\ti = i - 1"
      ]
    },
    {
      "cell_type": "markdown",
      "metadata": {
        "id": "kQul4HDoZRzX"
      },
      "source": [
        "#### <p style=\"font-family: Arial; font-size:1.4em; background-color: yellow; color:black;\"> Problem #1.1 </p>\n",
        "\n",
        "#### Complete the code to print the numbers from 10 to 20 with the step 2 (10, 12, ...20)\n",
        "> Use the while loop"
      ]
    },
    {
      "cell_type": "code",
      "execution_count": 5,
      "metadata": {
        "colab": {
          "base_uri": "https://localhost:8080/"
        },
        "id": "kUBStPaQZRzY",
        "outputId": "0a265f90-d86b-4f93-ab38-9d446be8d5a3"
      },
      "outputs": [
        {
          "output_type": "stream",
          "name": "stdout",
          "text": [
            "10 12 14 16 18 20 "
          ]
        }
      ],
      "source": [
        "begin = 10\n",
        "end = 20\n",
        "\n",
        "i = begin\n",
        "while (i<=end):\n",
        "  print (i, end=' ')\n",
        "  i = i + 2"
      ]
    },
    {
      "cell_type": "markdown",
      "metadata": {
        "id": "d-HbuVpCZRzY"
      },
      "source": [
        "#### <p style=\"font-family: Arial; font-size:1.4em; background-color: yellow; color:black;\"> Problem #1.2 </p>\n",
        "\n",
        "#### Complete the code to print the numbers from the input value 'begin' to another input 'end'.\n",
        "> Use the while loop  <br>\n",
        "\n",
        "<font color='red'> Note: the input value 'begin' can be greater than 'end'. <br>\n",
        "if begin > end, print all the values from 'begin' to 'end' in decreasing order\n",
        "</font>"
      ]
    },
    {
      "cell_type": "code",
      "execution_count": 7,
      "metadata": {
        "colab": {
          "base_uri": "https://localhost:8080/"
        },
        "id": "YknZJVwwZRzZ",
        "outputId": "2859a98c-c765-4aa6-a3b2-f41fc47d5b84"
      },
      "outputs": [
        {
          "output_type": "stream",
          "name": "stdout",
          "text": [
            "Enter the starting value: 20\n",
            "Enter the end value: 14\n",
            "20 19 18 17 16 15 14 "
          ]
        }
      ],
      "source": [
        "begin = int(input('Enter the starting value: '))\n",
        "end = int(input('Enter the end value: '))\n",
        "\n",
        "if begin >= end:\n",
        "  while begin >= end:\n",
        "    print (begin, end=' ')\n",
        "    begin -= 1\n",
        "else:\n",
        "  while begin <= end:\n",
        "    print (begin, end=' ')\n",
        "    begin += 1\n"
      ]
    },
    {
      "cell_type": "markdown",
      "metadata": {
        "id": "GvOlkqFjZRzZ"
      },
      "source": [
        "#### <p style=\"font-family: Arial; font-size:1.4em; background-color: yellow; color:black;\"> Problem #1.3 </p>\n",
        "\n",
        "#### Complete the code to print the 9 multiplication numbers from the given input value 'num'\n",
        "> For example, if the input \"num\" is 3, this code will print <br>\n",
        "> 3 6 9 12 15 18 21 24 27 <br>\n",
        "> Use the while loop  <br>"
      ]
    },
    {
      "cell_type": "code",
      "execution_count": 8,
      "metadata": {
        "colab": {
          "base_uri": "https://localhost:8080/"
        },
        "id": "FAqR4cFzZRzZ",
        "outputId": "37f509e5-d3ab-49e4-ed97-8691d9880efe"
      },
      "outputs": [
        {
          "output_type": "stream",
          "name": "stdout",
          "text": [
            "Enter a number: 3\n",
            "3 6 9 12 15 18 21 24 27 "
          ]
        }
      ],
      "source": [
        "num = int(input('Enter a number: '))\n",
        "\n",
        "i = 1\n",
        "while i <= 9:\n",
        "  print (num * i, end= \" \")\n",
        "  i = i + 1"
      ]
    },
    {
      "cell_type": "markdown",
      "metadata": {
        "id": "-5ZSLOkEZRza"
      },
      "source": [
        "#### <p style=\"font-family: Arial; font-size:1.4em; background-color: yellow; color:black;\"> Problem #1.4 </p>\n",
        "\n",
        "#### Complete the code to print all numbers\n",
        "#### from 'start' to 'end' if 'start' < 'end'\n",
        "#### from 'end' to 'start' if 'end' < 'start'\n",
        "> For example, if start = 3, end = 5, it will print 3 4 5 <br>\n",
        "> if start = 10, end = 7, it will print 7 8 9 10  <br>\n",
        "> Use the <font color='red'> while loop </font> <br>"
      ]
    },
    {
      "cell_type": "markdown",
      "metadata": {
        "id": "E0mXRChfZRza"
      },
      "source": [
        "#### <p style=\"font-family: Arial; font-size:1.4em; background-color: yellow; color:black;\"> Problem #1.5 </p>\n",
        "\n",
        "#### Complete the code to print all numbers\n",
        "#### from 'start' to 'end' if 'start' < 'end'\n",
        "#### from 'end' to 'start' if 'end' < 'start'\n",
        "> For example, if start = 3, end = 5, it will print 3 4 5 <br>\n",
        "> if start = 10, end = 7, it will print 7 8 9 10  <br>\n",
        "> Use the <font color='red'> while loop </font> <br>"
      ]
    },
    {
      "cell_type": "code",
      "execution_count": 9,
      "metadata": {
        "colab": {
          "base_uri": "https://localhost:8080/"
        },
        "id": "CECmCGuJZRza",
        "outputId": "0742e298-ca38-4c36-8c71-35d268db9904"
      },
      "outputs": [
        {
          "output_type": "stream",
          "name": "stdout",
          "text": [
            "Enter a number: 10\n",
            "Enter a number: 7\n",
            "7 8 9 10 "
          ]
        }
      ],
      "source": [
        "start = int(input('Enter a number: '))\n",
        "end = int(input('Enter a number: '))\n",
        "\n",
        "if start < end:\n",
        "  while start <= end:\n",
        "    print (start, end= \" \")\n",
        "    start = start + 1\n",
        "else:\n",
        "  while end <= start:\n",
        "    print (end, end= \" \")\n",
        "    end = end + 1"
      ]
    },
    {
      "cell_type": "markdown",
      "metadata": {
        "id": "bMqaC2R4ZRzb"
      },
      "source": [
        "#### <p style=\"font-family: Arial; font-size:1.4em; background-color: yellow; color:black;\"> Problem #1.6 </p>\n",
        "\n",
        "#### Complete the code to get the summation of 1 to the input 'num'\n",
        "> For example, if num = 5, it will print 15 because 1+2+3+4+5=15 <br>\n",
        "> if num = 10, it will print 55 because 1+2+3+4+5+6+7+8+9+10<br>\n",
        "> Use the <font color='red'> while loop </font> <br>"
      ]
    },
    {
      "cell_type": "code",
      "execution_count": 11,
      "metadata": {
        "colab": {
          "base_uri": "https://localhost:8080/"
        },
        "id": "Nd64xSOoZRzb",
        "outputId": "1bf0594d-b6fd-46b1-c9ba-5e9da61b7e58"
      },
      "outputs": [
        {
          "output_type": "stream",
          "name": "stdout",
          "text": [
            "Enter a number: 5\n",
            "The total from 1 to 5 is 15\n"
          ]
        }
      ],
      "source": [
        "num = int(input('Enter a number: '))\n",
        "val = 1\n",
        "total = 0\n",
        "while val <= num:\n",
        "    total += val\n",
        "    val += 1\n",
        "print (f'The total from 1 to {num} is {total}')\n",
        ""
      ]
    },
    {
      "cell_type": "markdown",
      "metadata": {
        "id": "869vUvJAZRzb"
      },
      "source": [
        "#### <p style=\"font-family: Arial; font-size:1.4em; background-color: yellow; color:black;\"> Problem #1.7 </p>\n",
        "\n",
        "#### Complete the code to get the summation between 'start'(inclusive) and 'end'(inclusive)\n",
        "#### Assume that 'start' < 'end'  \n",
        "> For example, if 'start' = 5, 'end' = 10, it will print 45 because 5+6+7+8+9+10=15 <br>\n",
        "> if 'start' = 10, 'end'= 20,  it will print 165 because 10+11+12+13+14+15+16+17+18+19+20 = 165 <br>\n",
        "> Use the <font color='red'> while loop </font> <br>"
      ]
    },
    {
      "cell_type": "code",
      "execution_count": 12,
      "metadata": {
        "colab": {
          "base_uri": "https://localhost:8080/"
        },
        "id": "caHdPlhTZRzc",
        "outputId": "b13133a4-fda7-4ee5-bb00-8e94f5fc1ee6"
      },
      "outputs": [
        {
          "output_type": "stream",
          "name": "stdout",
          "text": [
            "Enter a number: 10\n",
            "Enter a number: 20\n",
            "The total from 10 to 20 is 165\n"
          ]
        }
      ],
      "source": [
        "start = int(input('Enter a number: '))\n",
        "end = int(input('Enter a number: '))\n",
        "\n",
        "val = start\n",
        "total = 0\n",
        "while val <= end:\n",
        "    total += val\n",
        "    val += 1\n",
        "print(f'The total from {start} to {end} is {total}')"
      ]
    },
    {
      "cell_type": "markdown",
      "metadata": {
        "id": "CMIqOLE4ZRzc"
      },
      "source": [
        "#### <p style=\"font-family: Arial; font-size:1.4em; background-color: yellow; color:black;\"> Problem #1.8 </p>\n",
        "\n",
        "#### Complete the code to print all multiplication numbers of 3 between input 'start' and 'end'(inclusive)\n",
        "#### Assume that 'start' < 'end'  \n",
        "> For example, if start = 2, end = 10, it will print 3 6 9 <br>\n",
        "> if start = 12, end = 21, it will print 12 15 18 21  <br>\n",
        "> Use the <font color='red'> while loop </font> <br>"
      ]
    },
    {
      "cell_type": "code",
      "execution_count": 14,
      "metadata": {
        "colab": {
          "base_uri": "https://localhost:8080/"
        },
        "id": "wB0l0J8QZRzd",
        "outputId": "27cb6755-9895-4b51-c270-e7d0d3fd9b7f"
      },
      "outputs": [
        {
          "output_type": "stream",
          "name": "stdout",
          "text": [
            "Enter a number: 2\n",
            "Enter a number: 10\n",
            "3\n",
            "6\n",
            "9\n"
          ]
        }
      ],
      "source": [
        "start = int(input('Enter a number: '))\n",
        "end = int(input('Enter a number: '))\n",
        "\n",
        "i = start // 3\n",
        "i += 1 if start % 3 else 0\n",
        "while i*3 <= end:\n",
        "    print (i*3)\n",
        "    i += 1"
      ]
    },
    {
      "cell_type": "markdown",
      "metadata": {
        "id": "CCY0gB5qZRzd"
      },
      "source": [
        "#### <p style=\"font-family: Arial; font-size:1.4em; background-color: yellow; color:black;\"> Problem #1.9 </p>\n",
        "\n",
        "#### Complete the code to print all multiplication numbers of 'seed' between input 'start' and 'end'(inclusive)\n",
        "#### Assume that 'seed' is greater than 1\n",
        "#### Assume that 'start' < 'end'. Same as 1.8 except the 'seed'\n",
        "> For example, if start = 2, end = 10, seed=3, it will print 3 6 9 <br>\n",
        "> if start = 12, end = 31, seed = 6, it will print 12 18 24  <br>\n",
        "> Use the <font color='red'> while loop </font> <br>"
      ]
    },
    {
      "cell_type": "code",
      "execution_count": 15,
      "metadata": {
        "colab": {
          "base_uri": "https://localhost:8080/"
        },
        "id": "YaC-tnaBZRzd",
        "outputId": "0751604a-04a1-4503-b7a2-6c3fa39b6f51"
      },
      "outputs": [
        {
          "output_type": "stream",
          "name": "stdout",
          "text": [
            "Enter the seed number for multiplication: 3\n",
            "Enter a number: 2\n",
            "Enter a number: 10\n",
            "3\n",
            "6\n",
            "9\n"
          ]
        }
      ],
      "source": [
        "seed = int(input('Enter the seed number for multiplication: '))\n",
        "start = int(input('Enter a number: '))\n",
        "end = int(input('Enter a number: '))\n",
        "\n",
        "i = start // seed\n",
        "i += 1 if start % seed else 0\n",
        "while i * seed <= end:\n",
        "    print (i * seed)\n",
        "    i += 1"
      ]
    },
    {
      "cell_type": "markdown",
      "metadata": {
        "id": "BqcQQs8uZRze"
      },
      "source": [
        "#### <p style=\"font-family: Arial; font-size:1.4em; background-color: yellow; color:black;\"> Problem #1.10 </p>\n",
        "\n",
        "#### Complete the code to repeat the input number until the inputted number is greater than 100\n",
        "#### if the input number is greater than 100, stop the while loop\n",
        "#### Otherwise, print the <font color='red'> number </font>\n",
        "> For example, if the series of input is 5 10 15 20 150, <br>\n",
        "> print a input number at each iteration in the while loop, except the 150 <br>\n",
        "> 5 <br> 10 <br> 15<br> 20<br>  \n",
        "> Use the <font color='red'> while loop </font> <br>"
      ]
    },
    {
      "cell_type": "code",
      "execution_count": 16,
      "metadata": {
        "colab": {
          "base_uri": "https://localhost:8080/"
        },
        "id": "IJ4ITZ-NZRze",
        "outputId": "ff1715b5-8fe0-4169-f91a-36bcd39b846e"
      },
      "outputs": [
        {
          "name": "stdout",
          "output_type": "stream",
          "text": [
            "Enter a number: 5\n",
            "5\n",
            "Enter a number: 10\n",
            "10\n",
            "Enter a number: 100\n",
            "100\n",
            "Enter a number: 120\n"
          ]
        }
      ],
      "source": [
        "total = 0\n",
        "number = int(input('Enter a number: '))\n",
        "\n",
        "while number <= 100:\n",
        "    print (number)\n",
        "    number = int(input('Enter a number: '))\n",
        ""
      ]
    },
    {
      "cell_type": "markdown",
      "metadata": {
        "id": "A9v1A0J3ZRzf"
      },
      "source": [
        "#### <p style=\"font-family: Arial; font-size:1.4em; background-color: yellow; color:black;\"> Problem #1.11 </p>\n",
        "\n",
        "#### Complete the code to repeat the input of a number until the sum of all input numbers is greater than 100.\n",
        "#### if the sum of all input numbers is greater than 100, stop the while loop\n",
        "#### Otherwise, add the input number to the variable \"<font color='red'> total </font>\"\n",
        "> For example, if the series of input is 5 10 15 20 150, <br>\n",
        "> the total must be 5 + 10 + 15 + 20 + 150 = 200, and stop the while loop   <br>\n",
        "> After the while loop, print the 'total'\n",
        "> Use the <font color='red'> while loop </font> <br>"
      ]
    },
    {
      "cell_type": "code",
      "execution_count": 17,
      "metadata": {
        "colab": {
          "base_uri": "https://localhost:8080/"
        },
        "id": "c8k9MLPmZRzf",
        "outputId": "652582b6-262e-4dec-b86c-c74d8d58c64e"
      },
      "outputs": [
        {
          "output_type": "stream",
          "name": "stdout",
          "text": [
            "Enter a number 5\n",
            "Enter a number 10\n",
            "Enter a number 15\n",
            "Enter a number 20\n",
            "Enter a number 150\n",
            "The total of input numbers are 200\n"
          ]
        }
      ],
      "source": [
        "number = int(input('Enter a number '))\n",
        "total = 0\n",
        "while total <= 100:\n",
        "    total += number\n",
        "    if total > 100:\n",
        "        break\n",
        "    number = int(input('Enter a number '))\n",
        "print (f'The total of input numbers are {total}')"
      ]
    },
    {
      "cell_type": "markdown",
      "metadata": {
        "id": "ikWCkon3ZRzg"
      },
      "source": [
        "#### <p style=\"font-family: Arial; font-size:1.4em; background-color: yellow; color:black;\"> Problem #1.12</p>\n",
        "\n",
        "#### Complete the code to print all alphabets between input letters 'start' and 'end'\n",
        "#### 'start' and 'end' letters are inclusive\n",
        "#### Assumption. 'start' and 'end' is lower case letters. All inputs are lower case.\n",
        "> For example, if 'start' is 'a' and 'end' is 'f'  <br>\n",
        "> print 'a', 'b', 'c', 'd', 'e', 'f' <br>\n",
        "> Use the <font color='red'> while loop </font> <br>\n",
        "\n",
        "#### Refer to the following example code to practice the ord() and chr() funtions"
      ]
    },
    {
      "cell_type": "code",
      "execution_count": 18,
      "metadata": {
        "colab": {
          "base_uri": "https://localhost:8080/"
        },
        "id": "dfnHCxCUZRzh",
        "outputId": "95d5604d-ce79-44fe-a0bd-b81a49beb9db"
      },
      "outputs": [
        {
          "output_type": "stream",
          "name": "stdout",
          "text": [
            "97\n",
            "98\n"
          ]
        }
      ],
      "source": [
        "start = 'a'\n",
        "print (ord(start))  # it will print 97, which is ASCII code for the letter 'a'\n",
        "\n",
        "next = ord(start) + 1\n",
        "print (next)  # it will print 97, which is ASCII code for the letter 'b'"
      ]
    },
    {
      "cell_type": "code",
      "execution_count": 19,
      "metadata": {
        "colab": {
          "base_uri": "https://localhost:8080/"
        },
        "id": "cfNARBjgZRzi",
        "outputId": "2f823898-69eb-4508-e6cc-9faff94d0d0d"
      },
      "outputs": [
        {
          "output_type": "execute_result",
          "data": {
            "text/plain": [
              "('s', 'i', 'b')"
            ]
          },
          "metadata": {},
          "execution_count": 19
        }
      ],
      "source": [
        "chr(115), chr(105), chr(98)     # by using the ASCII code 115, we can convert it as a character"
      ]
    },
    {
      "cell_type": "code",
      "execution_count": 20,
      "metadata": {
        "colab": {
          "base_uri": "https://localhost:8080/"
        },
        "id": "lL1uBbEEZRzi",
        "outputId": "43609b1f-03b5-427e-9b60-9bddaef49f58"
      },
      "outputs": [
        {
          "output_type": "stream",
          "name": "stdout",
          "text": [
            "b\n"
          ]
        }
      ],
      "source": [
        "start = 'a'\n",
        "next = ord(start) + 1\n",
        "print (chr(next))"
      ]
    },
    {
      "cell_type": "code",
      "execution_count": 21,
      "metadata": {
        "colab": {
          "base_uri": "https://localhost:8080/"
        },
        "id": "vz2JOhxpZRzj",
        "outputId": "fe3070e7-c160-4379-afe0-26f2663bb45c"
      },
      "outputs": [
        {
          "output_type": "stream",
          "name": "stdout",
          "text": [
            "Enter a starting letter: a\n",
            "Enter a starting letter: f\n",
            "a\n",
            "b\n",
            "c\n",
            "d\n",
            "e\n",
            "f\n"
          ]
        }
      ],
      "source": [
        "start = input('Enter a starting letter: ')\n",
        "end = input('Enter a starting letter: ')\n",
        "\n",
        "start_code = ord(start)\n",
        "end_code = ord(end)\n",
        "\n",
        "while start_code <= end_code:\n",
        "    print (chr(start_code))\n",
        "    start_code += 1\n",
        "\n"
      ]
    },
    {
      "cell_type": "markdown",
      "metadata": {
        "id": "Ei6_SRRbZRzk"
      },
      "source": [
        "***"
      ]
    },
    {
      "cell_type": "markdown",
      "metadata": {
        "id": "CqmaQND3ZRzk"
      },
      "source": [
        "#### Loop until the character 'q' is entered"
      ]
    },
    {
      "cell_type": "code",
      "execution_count": 22,
      "metadata": {
        "colab": {
          "base_uri": "https://localhost:8080/"
        },
        "id": "nIea09n7ZRzk",
        "outputId": "b50efc56-e0b0-4518-e4d4-aeaa8fc655ef"
      },
      "outputs": [
        {
          "name": "stdout",
          "output_type": "stream",
          "text": [
            "Enter a charactera\n",
            "a\tEnter a characterb\n",
            "b\tEnter a characterc\n",
            "c\tEnter a characterq\n"
          ]
        }
      ],
      "source": [
        "user_val = input('Enter a character')\n",
        "while ( user_val != 'q' ):\n",
        "\tprint ( user_val, end='\\t')\n",
        "\tuser_val = input('Enter a character')\n"
      ]
    },
    {
      "cell_type": "code",
      "execution_count": 23,
      "metadata": {
        "colab": {
          "base_uri": "https://localhost:8080/"
        },
        "id": "vO4kxwAhZRzl",
        "outputId": "11ae1917-0e2e-4081-f4aa-89226a404506"
      },
      "outputs": [
        {
          "output_type": "stream",
          "name": "stdout",
          "text": [
            "Enter your number2\n",
            " user input is  2\n"
          ]
        }
      ],
      "source": [
        "user_num = int(input('Enter your number'))\n",
        "while ( user_num < 0 or user_num > 10):\n",
        "\tprint (\"Invalid Input. Try again\")\n",
        "\tuser_num = int(input('Enter your number'))\n",
        "print (\" user input is \", user_num)\n"
      ]
    },
    {
      "cell_type": "markdown",
      "metadata": {
        "id": "ZqFOTqNvZRzm"
      },
      "source": [
        "## Don't forget to <font color='red'> **\"commit\"** </font> your work or <font color='red'> **\"save\"** </font> in Google Colab\n",
        "## before moving to the next section."
      ]
    },
    {
      "cell_type": "markdown",
      "metadata": {
        "id": "N_wE1uFUZRzm"
      },
      "source": [
        "***\n",
        "## <p style=\"background-color: grey; color: white \">  ◼️ For loop </p>\n",
        "# <p style=\"font-family: Arial; font-size:1.4em;color:red;\"> 2. Basic For-loop Structures</p>"
      ]
    },
    {
      "cell_type": "markdown",
      "metadata": {
        "id": "B2UjXZhpZR0C"
      },
      "source": [
        "#### <p style=\"font-family: Arial; font-size:1.4em; background-color: yellow; color:black;\"> Problem #2.1</p>\n",
        "#### Complete the following code cells and figure out the syntax of for-loop"
      ]
    },
    {
      "cell_type": "markdown",
      "metadata": {
        "id": "nwQxlv5yZR0D"
      },
      "source": [
        "##### Basic Syntax of For-Loop"
      ]
    },
    {
      "cell_type": "code",
      "execution_count": 24,
      "metadata": {
        "colab": {
          "base_uri": "https://localhost:8080/"
        },
        "id": "vp4-wqdhZR0D",
        "outputId": "2038fb62-6b65-47e0-ea76-6cc8212be8e6"
      },
      "outputs": [
        {
          "output_type": "stream",
          "name": "stdout",
          "text": [
            "0 1 2 3 4 5 6 7 8 9 "
          ]
        }
      ],
      "source": [
        "for i in range(10):\n",
        "    print (i, end = ' ')"
      ]
    },
    {
      "cell_type": "code",
      "execution_count": 25,
      "metadata": {
        "colab": {
          "base_uri": "https://localhost:8080/"
        },
        "id": "MhQ4BmpUZR0E",
        "outputId": "37743dab-ac35-4ff6-a579-429ba3f01e96"
      },
      "outputs": [
        {
          "output_type": "stream",
          "name": "stdout",
          "text": [
            "0 1 2 3 4 "
          ]
        }
      ],
      "source": [
        "for num in range(5):\n",
        "\tprint (num, end=' ')"
      ]
    },
    {
      "cell_type": "markdown",
      "metadata": {
        "id": "wmgpxtEBZR0E"
      },
      "source": [
        "##### Complete this code to print 0 to <font color='red'> 10</font> with for-loop"
      ]
    },
    {
      "cell_type": "code",
      "execution_count": 27,
      "metadata": {
        "colab": {
          "base_uri": "https://localhost:8080/"
        },
        "id": "k7E9JWuQZR0F",
        "outputId": "7866e6fd-8d80-400a-f018-1afa188d570a"
      },
      "outputs": [
        {
          "output_type": "stream",
          "name": "stdout",
          "text": [
            "0 1 2 3 4 5 6 7 8 9 10 "
          ]
        }
      ],
      "source": [
        "for val in range(11):\n",
        "    print (val, end=' ')"
      ]
    },
    {
      "cell_type": "markdown",
      "metadata": {
        "id": "n1UR5H1XZR0F"
      },
      "source": [
        "#### <p style=\"font-family: Arial; font-size:1.4em; background-color: yellow; color:black;\"> Problem #2.2: with steps</p>\n",
        "#### Complete the following code cells and check out the results"
      ]
    },
    {
      "cell_type": "code",
      "execution_count": 28,
      "metadata": {
        "colab": {
          "base_uri": "https://localhost:8080/"
        },
        "id": "F1Lgj-fWZR0F",
        "outputId": "c667900d-84b1-4882-f325-e14ca7992aa7"
      },
      "outputs": [
        {
          "output_type": "stream",
          "name": "stdout",
          "text": [
            "0\n",
            "1\n",
            "2\n",
            "3\n",
            "4\n",
            "5\n",
            "6\n",
            "7\n",
            "8\n",
            "9\n"
          ]
        }
      ],
      "source": [
        "for i in range(0, 10):\n",
        "    print (i)"
      ]
    },
    {
      "cell_type": "code",
      "execution_count": 29,
      "metadata": {
        "colab": {
          "base_uri": "https://localhost:8080/"
        },
        "id": "dDlezGwGZR0G",
        "outputId": "9eacf84d-4e94-4ff8-f2aa-a4a69c6ba339"
      },
      "outputs": [
        {
          "output_type": "stream",
          "name": "stdout",
          "text": [
            "1\n",
            "2\n",
            "3\n",
            "4\n",
            "5\n",
            "6\n",
            "7\n",
            "8\n",
            "9\n"
          ]
        }
      ],
      "source": [
        "for i in range(1,10):\n",
        "    print (i)"
      ]
    },
    {
      "cell_type": "code",
      "execution_count": 30,
      "metadata": {
        "colab": {
          "base_uri": "https://localhost:8080/"
        },
        "id": "OzldXT23ZR0G",
        "outputId": "66cec9d7-85d5-4006-86f9-b0a5888f3a7c"
      },
      "outputs": [
        {
          "output_type": "stream",
          "name": "stdout",
          "text": [
            "5\n",
            "6\n",
            "7\n",
            "8\n",
            "9\n"
          ]
        }
      ],
      "source": [
        "for i in range(5,10):\n",
        "    print (i)"
      ]
    },
    {
      "cell_type": "code",
      "execution_count": 31,
      "metadata": {
        "colab": {
          "base_uri": "https://localhost:8080/"
        },
        "id": "_twbfl9GZR0H",
        "outputId": "e4a9d6fa-03c2-4eb3-c43e-f0534073ac92"
      },
      "outputs": [
        {
          "output_type": "stream",
          "name": "stdout",
          "text": [
            "0\n",
            "2\n",
            "4\n",
            "6\n",
            "8\n"
          ]
        }
      ],
      "source": [
        "for i in range(0, 10, 2):\n",
        "    print (i)"
      ]
    },
    {
      "cell_type": "code",
      "execution_count": 32,
      "metadata": {
        "colab": {
          "base_uri": "https://localhost:8080/"
        },
        "id": "ekuELo0nZR0H",
        "outputId": "e7a24efe-fee1-4dcb-c7e5-7c27327bde76"
      },
      "outputs": [
        {
          "output_type": "stream",
          "name": "stdout",
          "text": [
            "5\n",
            "10\n",
            "15\n",
            "20\n"
          ]
        }
      ],
      "source": [
        "for i in range(5, 25, 5):\n",
        "    print (i)"
      ]
    },
    {
      "cell_type": "markdown",
      "metadata": {
        "id": "jvUQqx3sZR0I"
      },
      "source": [
        "Complete the code to print 10, 12, 14, 16, 18, 20"
      ]
    },
    {
      "cell_type": "code",
      "execution_count": 33,
      "metadata": {
        "colab": {
          "base_uri": "https://localhost:8080/"
        },
        "id": "3C7Hd446ZR0I",
        "outputId": "7d800cee-cceb-4f27-ddc5-ae6e8498580f"
      },
      "outputs": [
        {
          "output_type": "stream",
          "name": "stdout",
          "text": [
            "10\n",
            "12\n",
            "14\n",
            "16\n",
            "18\n",
            "20\n"
          ]
        }
      ],
      "source": [
        "for i in range(10, 21, 2):\n",
        "    print (i)"
      ]
    },
    {
      "cell_type": "markdown",
      "metadata": {
        "id": "Bhc9SP2OZR0J"
      },
      "source": [
        "#### <p style=\"font-family: Arial; font-size:1.4em; background-color: yellow; color:black;\"> Problem #2.3: decreasing</p>\n",
        "#### Complete the following code cells and check out the results"
      ]
    },
    {
      "cell_type": "code",
      "execution_count": 35,
      "metadata": {
        "id": "F6t6ldJnZR0K"
      },
      "outputs": [],
      "source": [
        "for i in range(10, 0): # not working\n",
        "    print (i)\n"
      ]
    },
    {
      "cell_type": "code",
      "execution_count": 36,
      "metadata": {
        "colab": {
          "base_uri": "https://localhost:8080/"
        },
        "id": "sskfNIn1ZR0K",
        "outputId": "04f1c900-8ef1-42b7-ee20-c358f9188867"
      },
      "outputs": [
        {
          "output_type": "stream",
          "name": "stdout",
          "text": [
            "10\n",
            "9\n",
            "8\n",
            "7\n",
            "6\n",
            "5\n",
            "4\n",
            "3\n",
            "2\n",
            "1\n"
          ]
        }
      ],
      "source": [
        "for i in range(10, 0, -1):\n",
        "    print (i)"
      ]
    },
    {
      "cell_type": "code",
      "execution_count": 37,
      "metadata": {
        "colab": {
          "base_uri": "https://localhost:8080/"
        },
        "id": "1hSd63z9ZR0M",
        "outputId": "dbd3dab2-5307-4690-b110-66b168b3c5eb"
      },
      "outputs": [
        {
          "output_type": "stream",
          "name": "stdout",
          "text": [
            "10\n",
            "8\n",
            "6\n",
            "4\n",
            "2\n"
          ]
        }
      ],
      "source": [
        "for i in range(10, 0, -2):\n",
        "    print (i)"
      ]
    },
    {
      "cell_type": "markdown",
      "metadata": {
        "id": "TdS_lgkxZR0M"
      },
      "source": [
        "Complete the code to print 15, 12, 9, 6, 3, 0"
      ]
    },
    {
      "cell_type": "code",
      "execution_count": 39,
      "metadata": {
        "colab": {
          "base_uri": "https://localhost:8080/"
        },
        "id": "MJkrm4CzZR0N",
        "outputId": "5696533f-b08e-4294-9f58-ee7f66ce176c"
      },
      "outputs": [
        {
          "output_type": "stream",
          "name": "stdout",
          "text": [
            "15\n",
            "12\n",
            "9\n",
            "6\n",
            "3\n",
            "0\n"
          ]
        }
      ],
      "source": [
        "for i in range(15, -1, -3):\n",
        "    print (i)"
      ]
    },
    {
      "cell_type": "markdown",
      "metadata": {
        "id": "Pd0-dEzuZR0O"
      },
      "source": [
        "#### <p style=\"font-family: Arial; font-size:1.4em; background-color: yellow; color:black;\"> Problem #2.4: list values in for-loop</p>\n",
        "#### Complete the following code cells and check out the results"
      ]
    },
    {
      "cell_type": "markdown",
      "metadata": {
        "id": "77hGcw-cZR0O"
      },
      "source": [
        "#### List can be used for-loop to iterate all elements\n",
        "```\n",
        "for val in [0,1,2,3,4]:\n",
        "    print (val)\n",
        "```"
      ]
    },
    {
      "cell_type": "code",
      "execution_count": 40,
      "metadata": {
        "colab": {
          "base_uri": "https://localhost:8080/"
        },
        "id": "HKRXGoyXZR0P",
        "outputId": "fc90876d-4192-47e6-8396-68cfb44b1faa"
      },
      "outputs": [
        {
          "output_type": "stream",
          "name": "stdout",
          "text": [
            "0\n",
            "1\n",
            "2\n",
            "3\n",
            "4\n"
          ]
        }
      ],
      "source": [
        "for val in [0,1,2,3,4]:\n",
        "    print (val)"
      ]
    },
    {
      "cell_type": "code",
      "execution_count": 41,
      "metadata": {
        "colab": {
          "base_uri": "https://localhost:8080/"
        },
        "id": "39P31VmTZR0P",
        "outputId": "57423d9e-168a-435f-f72a-37d063d4a540"
      },
      "outputs": [
        {
          "output_type": "stream",
          "name": "stdout",
          "text": [
            "Java Python C++ R Ruby Java Script "
          ]
        }
      ],
      "source": [
        "for str in ['Java', 'Python', 'C++', 'R', 'Ruby', 'Java Script']:\n",
        "\tprint (str, end=' ')"
      ]
    },
    {
      "cell_type": "code",
      "execution_count": 42,
      "metadata": {
        "colab": {
          "base_uri": "https://localhost:8080/"
        },
        "id": "PMlvacH3ZR0Q",
        "outputId": "16c4c347-8883-46ff-fe24-39a5e2631982"
      },
      "outputs": [
        {
          "output_type": "stream",
          "name": "stdout",
          "text": [
            "10\n",
            "20\n",
            "30\n",
            "10\n",
            "20\n",
            "30\n"
          ]
        }
      ],
      "source": [
        "for val in [10, 20, 30]:\n",
        "\tprint (val)\n",
        "\n",
        "listval = [10, 20, 30]\n",
        "for val in listval:\n",
        "\tprint (val)\n",
        "\n",
        ""
      ]
    },
    {
      "cell_type": "markdown",
      "metadata": {
        "id": "eO2j8TR5ZR0Q"
      },
      "source": [
        "Complete the code to get the summation of 5 user input values"
      ]
    },
    {
      "cell_type": "code",
      "execution_count": 43,
      "metadata": {
        "colab": {
          "base_uri": "https://localhost:8080/"
        },
        "id": "N-pLZ1IWZR0R",
        "outputId": "7b1c1ea3-c00e-41a2-b00d-c8e7b03bf6a4"
      },
      "outputs": [
        {
          "output_type": "stream",
          "name": "stdout",
          "text": [
            "Enter your num5\n",
            "Enter your num2\n",
            "Enter your num3\n",
            "Enter your num1\n",
            "Enter your num0\n",
            "Summation is 11\n"
          ]
        }
      ],
      "source": [
        "total  = 0\n",
        "for  i in range(5):\n",
        "\tuser_num = int(input('Enter your num'))\n",
        "\ttotal += user_num\n",
        "print (\"Summation is\", total)\n"
      ]
    },
    {
      "cell_type": "markdown",
      "metadata": {
        "id": "NrOchFvHZR0S"
      },
      "source": [
        "Compare the while-loop version to for-loop"
      ]
    },
    {
      "cell_type": "code",
      "execution_count": 44,
      "metadata": {
        "colab": {
          "base_uri": "https://localhost:8080/"
        },
        "id": "VngxmCDOZR0S",
        "outputId": "d92e686b-f8c7-41ef-a58e-b0fbb1f3f8de"
      },
      "outputs": [
        {
          "output_type": "stream",
          "name": "stdout",
          "text": [
            "Enter your num4\n",
            "Enter your num6\n",
            "Enter your num2\n",
            "Enter your num4\n",
            "Enter your num9\n",
            "Summation is 25\n"
          ]
        }
      ],
      "source": [
        "sum = 0\n",
        "i = 0\n",
        "while (i < 5):\n",
        "\tuser_num = int(input('Enter your num'))\n",
        "\tsum += user_num\n",
        "\ti += 1\n",
        "print (\"Summation is\", sum)\n"
      ]
    },
    {
      "cell_type": "code",
      "execution_count": 45,
      "metadata": {
        "colab": {
          "base_uri": "https://localhost:8080/"
        },
        "id": "VHilNV0iZR0T",
        "outputId": "1d8f46bc-2c46-4112-ca91-a03a9056a0ea"
      },
      "outputs": [
        {
          "output_type": "stream",
          "name": "stdout",
          "text": [
            "1\n",
            "2\n",
            "3\n",
            "4\n",
            "5\n",
            "6\n",
            "7\n",
            "8\n",
            "9\n",
            "10\n",
            "11\n"
          ]
        }
      ],
      "source": [
        "i = 0\n",
        "\n",
        "while True:\n",
        "\ti += 1\n",
        "\tprint (i)\n",
        "\tif ( i > 10):\n",
        "\t\tbreak\n"
      ]
    },
    {
      "cell_type": "markdown",
      "metadata": {
        "id": "_o6AlbloZR0U"
      },
      "source": [
        "### Calculating Running Total"
      ]
    },
    {
      "cell_type": "code",
      "execution_count": 46,
      "metadata": {
        "colab": {
          "base_uri": "https://localhost:8080/"
        },
        "id": "hgAs8yCYZR0U",
        "outputId": "364ae712-f8ae-4c30-87d2-203357e47252"
      },
      "outputs": [
        {
          "output_type": "stream",
          "name": "stdout",
          "text": [
            "Enter your number15\n",
            "Enter your number4\n",
            "Enter your number5\n",
            "Enter your number1\n",
            "Enter your number2\n",
            "Total 27\n"
          ]
        }
      ],
      "source": [
        "sum = 0\n",
        "for i in range(5):\n",
        "\tnumber = int(input('Enter your number'))\n",
        "\tsum += number\n",
        "print ('Total {0}'.format(sum))"
      ]
    },
    {
      "cell_type": "markdown",
      "metadata": {
        "id": "Yrzpq7HJZR0V"
      },
      "source": [
        "##### While-loop version"
      ]
    },
    {
      "cell_type": "code",
      "execution_count": 47,
      "metadata": {
        "colab": {
          "base_uri": "https://localhost:8080/"
        },
        "id": "qYRNlJitZR0V",
        "outputId": "b938b6b3-3386-42a7-a489-d72e6b7e7f7f"
      },
      "outputs": [
        {
          "output_type": "stream",
          "name": "stdout",
          "text": [
            "Enter your number1\n",
            "Enter your number2\n",
            "Enter your number3\n",
            "Enter your number4\n",
            "Enter your number5\n",
            "Total 42\n"
          ]
        }
      ],
      "source": [
        "i = 0\n",
        "while (i < 5):\n",
        "\tnumber = int(input('Enter your number'))\n",
        "\tsum += number\n",
        "\ti += 1\n",
        "print ('Total {0}'.format(sum))"
      ]
    },
    {
      "cell_type": "markdown",
      "metadata": {
        "id": "ihxR49fFZR0W"
      },
      "source": [
        "### 👉 Complete the code to get the summation of 5 user input values with for-loop"
      ]
    },
    {
      "cell_type": "code",
      "execution_count": 48,
      "metadata": {
        "colab": {
          "base_uri": "https://localhost:8080/"
        },
        "id": "6EfznbFlZR0W",
        "outputId": "e0ecf1b3-8428-408f-9559-b0f077f2252a"
      },
      "outputs": [
        {
          "output_type": "stream",
          "name": "stdout",
          "text": [
            "Enter your number1\n",
            "Enter your number2\n",
            "Enter your number3\n",
            "Enter your number4\n",
            "Enter your number5\n",
            "Total 57\n"
          ]
        }
      ],
      "source": [
        "for i in range(5):\n",
        "    number = int(input(\"Enter your number\"))\n",
        "    sum += number\n",
        "print(\"Total {0}\".format(sum))"
      ]
    },
    {
      "cell_type": "markdown",
      "metadata": {
        "id": "MazyVE-TZR0W"
      },
      "source": [
        "### 👉 Complete the code to calculate the sum of 10 user input <font color='red'> even </font> values."
      ]
    },
    {
      "cell_type": "code",
      "execution_count": 50,
      "metadata": {
        "colab": {
          "base_uri": "https://localhost:8080/"
        },
        "id": "PVjW77seZR0X",
        "outputId": "b2eb7828-0353-41c2-a450-a092edc1a7b1"
      },
      "outputs": [
        {
          "output_type": "stream",
          "name": "stdout",
          "text": [
            "Enter your number2\n",
            "Enter your number1\n",
            "Enter your number3\n",
            "Enter your number6\n",
            "Enter your number7\n",
            "Enter your number8\n",
            "Enter your number4\n",
            "Enter your number7\n",
            "Enter your number9\n",
            "Enter your number7\n",
            "Total 81\n"
          ]
        }
      ],
      "source": [
        "for i in range(10):\n",
        "    number = int(input(\"Enter your number\"))\n",
        "    if number % 2 == 0:\n",
        "        sum += number\n",
        "print(\"Total {0}\".format(sum))"
      ]
    },
    {
      "cell_type": "markdown",
      "metadata": {
        "id": "Jwu7GrsYZR0X"
      },
      "source": [
        "#### What is the main difference between for-loop and while-loop?\n",
        "#### In which case the while-loop has advantage?"
      ]
    },
    {
      "cell_type": "markdown",
      "metadata": {
        "id": "gLyF_0CHZR0Y"
      },
      "source": [
        "#####  💯 Make your answer here with MD syntax\n",
        "- bullet\n",
        "> code\n",
        "<font color='red'> MD syntax example </font>\n",
        "\n",
        "- The main difference between the for-loop and while-loop is that I know how many times the loop will run. While the while loop runs as long as the condition is true.\n",
        "\n",
        "- The while-loop has advantage because when you don't know how many iterations and when you reply on a codition to stop the loop."
      ]
    },
    {
      "cell_type": "markdown",
      "metadata": {
        "id": "JHWaus0NZR0Y"
      },
      "source": [
        "## Don't forget to <font color='red'> **\"commit\"** </font> your work or <font color='red'> **\"save\"** </font> in Google Colab\n",
        "## before moving to the next section."
      ]
    },
    {
      "cell_type": "markdown",
      "metadata": {
        "id": "PqL0rLwtZR0Y"
      },
      "source": [
        "***\n",
        "## <p style=\"background-color: grey; color: white\">  ◼️ Random Numbers </p>\n",
        "# <p style=\"font-family: Arial; font-size:1.4em;color:red;\"> 3. Random Numbers </p>"
      ]
    },
    {
      "cell_type": "markdown",
      "metadata": {
        "id": "-vIg4s1tZR0Y"
      },
      "source": [
        "#### To create the Random Numbers, import the random module first\n",
        "> <font color='red'> import random </font>"
      ]
    },
    {
      "cell_type": "markdown",
      "metadata": {
        "id": "iHRR8qeSZR0Z"
      },
      "source": [
        "#### Random module supports the varous functions to generate random numbers\n",
        "#### Here is the link to learn more about \"Random\" module\n",
        "[Manual for Random Modlue](https://docs.python.org/3/library/random.html)\n",
        "\n",
        "In this first example, we will use only \"randint()\" function"
      ]
    },
    {
      "cell_type": "code",
      "execution_count": 51,
      "metadata": {
        "colab": {
          "base_uri": "https://localhost:8080/"
        },
        "id": "vqvfykbPZR0Z",
        "outputId": "96504555-642c-41df-ee9c-2a652ce7ec36"
      },
      "outputs": [
        {
          "output_type": "execute_result",
          "data": {
            "text/plain": [
              "14"
            ]
          },
          "metadata": {},
          "execution_count": 51
        }
      ],
      "source": [
        "import random\n",
        "\n",
        "randnum = random.randint(0, 100) # will return a random number between 0 and 100 (inclusive)\n",
        "randnum"
      ]
    },
    {
      "cell_type": "code",
      "execution_count": 52,
      "metadata": {
        "colab": {
          "base_uri": "https://localhost:8080/"
        },
        "id": "XorXzWzzZR0a",
        "outputId": "8f2ba187-70c4-436a-84ac-a8e29f499c90"
      },
      "outputs": [
        {
          "output_type": "stream",
          "name": "stdout",
          "text": [
            "The generated random number is 5, 8 and 5\n"
          ]
        }
      ],
      "source": [
        "rdnum1 = random.randint(0,10)\n",
        "rdnum2 = random.randint(0,10)\n",
        "rdnum3 = random.randint(0,10)\n",
        "\n",
        "print (f'The generated random number is {rdnum1}, {rdnum2} and {rdnum3}')"
      ]
    },
    {
      "cell_type": "markdown",
      "metadata": {
        "id": "np8zgzZsZR0a"
      },
      "source": [
        "#### <p style=\"font-family: Arial; font-size:1.4em; background-color: yellow; color:black;\"> Problem #3.1:  Random number</p>"
      ]
    },
    {
      "cell_type": "markdown",
      "metadata": {
        "id": "IOoesTuiZR0b"
      },
      "source": [
        "#### Complete the code to generate the random number between 10 and 20"
      ]
    },
    {
      "cell_type": "code",
      "execution_count": 70,
      "metadata": {
        "colab": {
          "base_uri": "https://localhost:8080/"
        },
        "id": "TOKt3ntpZR0b",
        "outputId": "c4e7e1f8-3fff-483a-becf-f351f3681f00"
      },
      "outputs": [
        {
          "output_type": "stream",
          "name": "stdout",
          "text": [
            "11\n"
          ]
        }
      ],
      "source": [
        "import random\n",
        "rdnum = random.randint(10,20)\n",
        "print (rdnum)"
      ]
    },
    {
      "cell_type": "markdown",
      "metadata": {
        "id": "pbZtaSxDZR0b"
      },
      "source": [
        "#### Complete the code to generate 5 random number between 10 and 20 using for loop\n"
      ]
    },
    {
      "cell_type": "code",
      "execution_count": 71,
      "metadata": {
        "colab": {
          "base_uri": "https://localhost:8080/"
        },
        "id": "mapUNg1TZR0c",
        "outputId": "bda21312-ef9b-4b7e-fa8b-4052e7456317"
      },
      "outputs": [
        {
          "output_type": "stream",
          "name": "stdout",
          "text": [
            "16 14 17 13 10 "
          ]
        }
      ],
      "source": [
        "for i in range(5):\n",
        "    rdnum = random.randint(10, 20)\n",
        "    print (rdnum, end=' ')"
      ]
    },
    {
      "cell_type": "markdown",
      "metadata": {
        "id": "8OYsDS3bZR0c"
      },
      "source": [
        "#### <p style=\"font-family: Arial; font-size:1.4em; background-color: yellow; color:black;\"> Problem #3.2  </p>\n",
        "#### Complete the code to generate 5 radom numbers between 10 and 20, and calculate the sum of all random numbers\n",
        "##### ✓ No need to use the \"list\" data type."
      ]
    },
    {
      "cell_type": "code",
      "execution_count": 85,
      "metadata": {
        "colab": {
          "base_uri": "https://localhost:8080/"
        },
        "id": "pozcJ1e7ZR0c",
        "outputId": "507d692c-2f83-46bc-b950-b0ecd59a8039"
      },
      "outputs": [
        {
          "output_type": "stream",
          "name": "stdout",
          "text": [
            "10 12 16 20 10 \n",
            "The sum of the random numbers is 68\n"
          ]
        }
      ],
      "source": [
        "import random\n",
        "\n",
        "total = 0\n",
        "\n",
        "for i in range(5):\n",
        "    rdnum = random.randint(10,20)\n",
        "    print (rdnum, end=' ')\n",
        "    total += rdnum\n",
        "print(f'\\nThe sum of the random numbers is {total}')"
      ]
    },
    {
      "cell_type": "markdown",
      "metadata": {
        "id": "CM67EGxxZR0d"
      },
      "source": [
        "#### <p style=\"font-family: Arial; font-size:1.4em; background-color: yellow; color:black;\"> Problem #3.3  </p>\n",
        "#### Complete the code to generate 5 radom numbers between 0 and 10, and find the greatest number\n",
        "##### ✓ No need to use the \"list\" data type."
      ]
    },
    {
      "cell_type": "code",
      "execution_count": 86,
      "metadata": {
        "colab": {
          "base_uri": "https://localhost:8080/"
        },
        "id": "a0HSauntZR0d",
        "outputId": "472935c8-0eb0-4e6c-97e1-b5e35f9774bd"
      },
      "outputs": [
        {
          "output_type": "stream",
          "name": "stdout",
          "text": [
            "2 9 10 8 10 \n",
            "The greatest random number is 10\n"
          ]
        }
      ],
      "source": [
        "for i in range(5):\n",
        "    rdnum = random.randint(0,10)\n",
        "    if i == 0: # if it is the first iteration\n",
        "        maxval = rdnum # We assume that the first rdnum is greatest number\n",
        "    if rdnum > maxval:  # if the next rdnum is greater than the current maxval, keep it as maxval\n",
        "        maxval = rdnum\n",
        "    print (rdnum, end=' ')\n",
        "\n",
        "print (f'\\nThe greatest random number is {maxval}')"
      ]
    },
    {
      "cell_type": "markdown",
      "metadata": {
        "id": "ioAgrTE6ZR0e"
      },
      "source": [
        "#### <p style=\"font-family: Arial; font-size:1.4em; background-color: yellow; color:black;\"> Problem #3.4  </p>\n",
        "#### Complete the code to generate 5 radom numbers between 0 and 10, and find the least number\n",
        "##### ✓ No need to use the \"list\" data type."
      ]
    },
    {
      "cell_type": "code",
      "execution_count": 93,
      "metadata": {
        "colab": {
          "base_uri": "https://localhost:8080/"
        },
        "id": "AijS2AjYZR0e",
        "outputId": "53cc701d-4c68-4db8-e82b-bb1b7ba37940"
      },
      "outputs": [
        {
          "output_type": "stream",
          "name": "stdout",
          "text": [
            "5 6 5 3 5 \n",
            "The lowest random number is 3\n"
          ]
        }
      ],
      "source": [
        "for i in range(5):\n",
        "    rdnum = random.randint(0,10)\n",
        "    if i == 0:\n",
        "        minval = rdnum\n",
        "    if rdnum < minval:\n",
        "        minval = rdnum\n",
        "    print (rdnum, end= \" \")\n",
        "\n",
        "print (f'\\nThe lowest random number is {minval}')"
      ]
    },
    {
      "cell_type": "markdown",
      "metadata": {
        "id": "EEALFCiBZR0e"
      },
      "source": [
        "#### <p style=\"font-family: Arial; font-size:1.4em; background-color: yellow; color:black;\"> Problem #3.5  </p>\n",
        "#### Write a program that generates a random number between 0 and 100 repeatedly.\n",
        "#### The while loop will stop if it is greater than the immediate preceding random number.\n",
        "##### ✓ No need to use the \"list\" data type. <br>"
      ]
    },
    {
      "cell_type": "code",
      "execution_count": 97,
      "metadata": {
        "colab": {
          "base_uri": "https://localhost:8080/"
        },
        "id": "S9VkH5FyZR0f",
        "outputId": "2457b502-8197-4346-cb5c-a628774455cf"
      },
      "outputs": [
        {
          "output_type": "stream",
          "name": "stdout",
          "text": [
            "94 1 29 "
          ]
        }
      ],
      "source": [
        "import random\n",
        "flag = 1\n",
        "prev_num = 101\n",
        "while (flag):\n",
        "\tcurrent_num = random.randint(0,100)\n",
        "\tprint (current_num, end = ' ')\n",
        "\tif ( current_num > prev_num):\n",
        "\t\tflag = 0;\n",
        "\tprev_num = current_num\n"
      ]
    },
    {
      "cell_type": "markdown",
      "metadata": {
        "id": "AlZGoLoIZR0f"
      },
      "source": [
        "## Don't forget to <font color='red'> **\"commit\"** </font> your work or <font color='red'> **\"save\"** </font> in Google Colab\n",
        "## before moving to the next section."
      ]
    },
    {
      "cell_type": "markdown",
      "metadata": {
        "id": "b3BpvAobZR0f"
      },
      "source": [
        "***\n",
        "## <p style=\"background-color: grey; color: white\">  ◼️ List and For loop </p>\n",
        "# <p style=\"font-family: Arial; font-size:1.4em;color:red;\"> 4. List and For loop </p>"
      ]
    },
    {
      "cell_type": "markdown",
      "metadata": {
        "id": "RWtNjfWVZR0g"
      },
      "source": [
        "#### list is the data type that can hold the multiple values as a element\n",
        "#### For example\n",
        "> <code> mylist = [10, 20, 30, 40, 50] </code>\n",
        "\n",
        "#### Each element can be accessed by using index, for example, to access the 2nd element\n",
        "> <code> mylist[1]   # it will print the value 20 </code>"
      ]
    },
    {
      "cell_type": "code",
      "execution_count": 98,
      "metadata": {
        "colab": {
          "base_uri": "https://localhost:8080/"
        },
        "id": "yyIjCRKWZR0h",
        "outputId": "3745fc90-e4ea-47c1-a8e6-e98620422386"
      },
      "outputs": [
        {
          "output_type": "stream",
          "name": "stdout",
          "text": [
            "10\n",
            "20\n",
            "30\n",
            "40\n",
            "50\n"
          ]
        }
      ],
      "source": [
        "mylist = [10, 20, 30, 40, 50]\n",
        "print (mylist[0])\n",
        "print (mylist[1])\n",
        "print (mylist[2])\n",
        "print (mylist[3])\n",
        "print (mylist[4])"
      ]
    },
    {
      "cell_type": "code",
      "execution_count": 99,
      "metadata": {
        "colab": {
          "base_uri": "https://localhost:8080/"
        },
        "id": "xTdo8L0GZR0i",
        "outputId": "63c0e643-470e-4efd-c530-2052a0860cda"
      },
      "outputs": [
        {
          "output_type": "stream",
          "name": "stdout",
          "text": [
            "150\n"
          ]
        }
      ],
      "source": [
        "mylist = [10, 20, 30, 40, 50]\n",
        "total = mylist[0] + mylist[1] + mylist[2] + mylist[3] + mylist[4]\n",
        "print (total)"
      ]
    },
    {
      "cell_type": "markdown",
      "metadata": {
        "id": "vlC2wnfeZR0j"
      },
      "source": [
        "#### Print all elements in the list"
      ]
    },
    {
      "cell_type": "code",
      "execution_count": 100,
      "metadata": {
        "colab": {
          "base_uri": "https://localhost:8080/"
        },
        "id": "UZqJ22cQZR0j",
        "outputId": "7335de15-d9a4-4cff-bfdc-883255608694"
      },
      "outputs": [
        {
          "output_type": "stream",
          "name": "stdout",
          "text": [
            "10 20 30 40 50 "
          ]
        }
      ],
      "source": [
        "mylist = [10, 20, 30, 40, 50]\n",
        "for idx in range(5):\n",
        "\tprint (mylist[idx], end=' ')"
      ]
    },
    {
      "cell_type": "markdown",
      "metadata": {
        "id": "d9DZD3oAZR0k"
      },
      "source": [
        "#### Print all elements in reverse order in the list"
      ]
    },
    {
      "cell_type": "code",
      "execution_count": 101,
      "metadata": {
        "colab": {
          "base_uri": "https://localhost:8080/"
        },
        "id": "I3r9pwi5ZR0l",
        "outputId": "0dcfd401-9015-4fbe-c6e6-f028c3ca1934"
      },
      "outputs": [
        {
          "output_type": "stream",
          "name": "stdout",
          "text": [
            "50 40 30 20 10 "
          ]
        }
      ],
      "source": [
        "mylist = [10, 20, 30, 40, 50]\n",
        "for idx in range(4, -1, -1):\n",
        "\tprint (mylist[idx], end=' ')"
      ]
    },
    {
      "cell_type": "markdown",
      "metadata": {
        "id": "J9pGHVgDZR0l"
      },
      "source": [
        "#### Print all elements in reverse order by using the \"reversed()\" function"
      ]
    },
    {
      "cell_type": "code",
      "execution_count": 102,
      "metadata": {
        "colab": {
          "base_uri": "https://localhost:8080/"
        },
        "id": "lus5r5aUZR0m",
        "outputId": "30511762-7186-4680-f94d-df92668cb872"
      },
      "outputs": [
        {
          "output_type": "stream",
          "name": "stdout",
          "text": [
            "4 3 2 1 0 "
          ]
        }
      ],
      "source": [
        "for i in reversed(range(5)):\n",
        "    print (i, end=' ')  # it will print 4 3 2 1 0, # Now you can these sequence to access the elements"
      ]
    },
    {
      "cell_type": "code",
      "execution_count": 103,
      "metadata": {
        "colab": {
          "base_uri": "https://localhost:8080/"
        },
        "id": "B0869t13ZR0m",
        "outputId": "857b583e-61af-46b9-e3bf-c24301fb4855"
      },
      "outputs": [
        {
          "output_type": "stream",
          "name": "stdout",
          "text": [
            "50 40 30 20 10 "
          ]
        }
      ],
      "source": [
        "mylist = [10, 20, 30, 40, 50]\n",
        "for idx in reversed(range(5)):\n",
        "\tprint (mylist[idx], end=' ')"
      ]
    },
    {
      "cell_type": "markdown",
      "metadata": {
        "id": "4PeI-O7pZR0m"
      },
      "source": [
        "#### Accessing each element directly without index in the for-loop"
      ]
    },
    {
      "cell_type": "code",
      "execution_count": 104,
      "metadata": {
        "colab": {
          "base_uri": "https://localhost:8080/"
        },
        "id": "O3nlnqdnZR0n",
        "outputId": "37a146f5-9346-49c8-e3b1-65407d10fae7"
      },
      "outputs": [
        {
          "output_type": "stream",
          "name": "stdout",
          "text": [
            "11 22 33 44 55 "
          ]
        }
      ],
      "source": [
        "mylist = [11, 22, 33, 44, 55]\n",
        "\n",
        "for v in mylist:        # the variable v will be each element in the repetition.\n",
        "    print (v, end=' ')\n"
      ]
    },
    {
      "cell_type": "markdown",
      "metadata": {
        "id": "8P5zrTkaZR0n"
      },
      "source": [
        "#### <p style=\"font-family: Arial; font-size:1.4em; background-color: yellow; color:black;\"> Problem #4.1  </p>\n",
        "#### Calculate the sum of all elements using for-loop\n",
        "#### Do not use the function sum(). Need to practice the for-loop and develop your algorithm"
      ]
    },
    {
      "cell_type": "code",
      "execution_count": 105,
      "metadata": {
        "colab": {
          "base_uri": "https://localhost:8080/"
        },
        "id": "OzBBNRFZZR0o",
        "outputId": "8851d9c4-2bea-4a8c-a092-0055d8e2a9bd"
      },
      "outputs": [
        {
          "output_type": "stream",
          "name": "stdout",
          "text": [
            "150\n"
          ]
        }
      ],
      "source": [
        "\n",
        "mylist = [10, 20, 30, 40, 50]\n",
        "total = 0\n",
        "\n",
        "for i in range(len(mylist)):\n",
        "    total += mylist[i]\n",
        "print(total)"
      ]
    },
    {
      "cell_type": "markdown",
      "metadata": {
        "id": "flFnmGUGZR0o"
      },
      "source": [
        "#### <p style=\"font-family: Arial; font-size:1.4em; background-color: yellow; color:black;\"> Problem #4.2  </p>\n",
        "#### Find the least number in the list.\n",
        "#### Do not use the function <font color='red'>min() </font>. <br> Need to practice the for-loop and develop your algorithm\n",
        "#### Follow the algorithm steps to find the least number\n",
        "> 1) Assume that the 1st element is the least number    \n",
        ">> <code> minval = mylist[0] </code>\n",
        "> 2) Iterate all elements from 2nd to the last\n",
        ">> <code> for i in range(len(mylist)): </code>\n",
        "> 3) If any element in the list is less than the current, replace the minval with the current element\n",
        ">> <code> if mylist[i] < minval: </code>\n",
        ">>> <code> minval = mylist[i] </code>"
      ]
    },
    {
      "cell_type": "code",
      "execution_count": 108,
      "metadata": {
        "colab": {
          "base_uri": "https://localhost:8080/"
        },
        "id": "bU5fZHtNZR0p",
        "outputId": "248e483a-e6fc-4168-8d6e-6fdfb69d3967"
      },
      "outputs": [
        {
          "output_type": "stream",
          "name": "stdout",
          "text": [
            "10\n"
          ]
        }
      ],
      "source": [
        "mylist = [10, 20, 30, 40, 50]\n",
        "minval = mylist[0]\n",
        "\n",
        "for i in range(len(mylist)):\n",
        "    if mylist[i] < minval:\n",
        "        minval = mylist[i]\n",
        "print(minval)\n"
      ]
    },
    {
      "cell_type": "markdown",
      "metadata": {
        "id": "Kc8UlbsPZR0p"
      },
      "source": [
        "#### <p style=\"font-family: Arial; font-size:1.4em; background-color: yellow; color:black;\"> Problem #4.3  </p>\n",
        "#### Complete the code that determines whether the input value is in the list or not\n",
        "#### Do not use the operator <font color='red'>in </font>. <br> Need to practice the for-loop and develop your algorithm\n",
        "> input number <br>\n",
        "> for each element in the list <br>\n",
        ">> compare input number to each element <br>\n",
        ">> if two values are same, print True <br>"
      ]
    },
    {
      "cell_type": "code",
      "execution_count": 114,
      "metadata": {
        "colab": {
          "base_uri": "https://localhost:8080/"
        },
        "id": "uUGFwuoJZR0q",
        "outputId": "dd6bc61a-b6c9-4374-d7aa-03e09da094a6"
      },
      "outputs": [
        {
          "output_type": "stream",
          "name": "stdout",
          "text": [
            "Enter a number: 20\n",
            "True\n"
          ]
        }
      ],
      "source": [
        "target = int(input('Enter a number: '))\n",
        "\n",
        "for v in mylist:\n",
        "    if v == target:\n",
        "        print (True)\n",
        "        break\n",
        "else:\n",
        "    print (False)"
      ]
    },
    {
      "cell_type": "markdown",
      "metadata": {
        "id": "aj2n56qcZR0q"
      },
      "source": [
        "## Don't forget to <font color='red'> **\"commit\"** </font> your work or <font color='red'> **\"save\"** </font> in Google Colab\n",
        "## before moving to the next section."
      ]
    },
    {
      "cell_type": "markdown",
      "metadata": {
        "id": "pjfcjH4TZR0q"
      },
      "source": [
        "***\n",
        "## <p style=\"background-color: grey; color: white\">  ◼️ Break and Continue </p>\n",
        "# <p style=\"font-family: Arial; font-size:1.4em;color:red;\"> 5. Break and Continue </p>\n",
        "\n",
        "\n",
        "#### In programming, the break and continue statements are used to alter the flow of loops:\n",
        "<ul>\n",
        "\t<li><code>break</code> exits the loop entirely</li>\n",
        "\t<li><code>continue</code> skips the current iteration and proceeds to the next one</li>\n",
        "</ul>"
      ]
    },
    {
      "cell_type": "markdown",
      "metadata": {
        "id": "orhrmqYsZR0r"
      },
      "source": [
        "### Example code: Before run the below cell, guess the value of i after for loop"
      ]
    },
    {
      "cell_type": "code",
      "execution_count": 115,
      "metadata": {
        "colab": {
          "base_uri": "https://localhost:8080/"
        },
        "id": "-7aZ4cCKZR0r",
        "outputId": "f7a9b220-38bf-4b9b-81ca-5c00259e1577"
      },
      "outputs": [
        {
          "output_type": "stream",
          "name": "stdout",
          "text": [
            "3\n"
          ]
        }
      ],
      "source": [
        "for i in range(5):\n",
        "    if i == 3:\n",
        "        break\n",
        "print (i)       # value i? why?"
      ]
    },
    {
      "cell_type": "markdown",
      "metadata": {
        "id": "ctrh67_sZR0r"
      },
      "source": [
        "### Example code: 10 iterations with while-loop and break\n",
        ""
      ]
    },
    {
      "cell_type": "code",
      "execution_count": 116,
      "metadata": {
        "colab": {
          "base_uri": "https://localhost:8080/"
        },
        "id": "5G0faLy5ZR0s",
        "outputId": "3d2572ba-175b-415f-b666-9aa0f67be28d"
      },
      "outputs": [
        {
          "output_type": "stream",
          "name": "stdout",
          "text": [
            "0 1 2 3 4 5 6 7 8 9 "
          ]
        }
      ],
      "source": [
        "i = 0\n",
        "while True:\n",
        "    if i == 10:\n",
        "        break\n",
        "    print (i, end=' ')\n",
        "    i += 1\n"
      ]
    },
    {
      "cell_type": "markdown",
      "metadata": {
        "id": "AH2zcL7_ZR0s"
      },
      "source": [
        "#### <p style=\"font-family: Arial; font-size:1.4em; background-color: yellow; color:black;\"> Problem #5.1  </p>\n",
        "#### Complete the code that input a number until the input value is -1\n",
        "> Use the while loop and break"
      ]
    },
    {
      "cell_type": "code",
      "execution_count": 118,
      "metadata": {
        "colab": {
          "base_uri": "https://localhost:8080/"
        },
        "id": "luyMs9pvZR0t",
        "outputId": "fbc91e0f-2544-46e5-b086-45c98a73bd89"
      },
      "outputs": [
        {
          "name": "stdout",
          "output_type": "stream",
          "text": [
            "Enter a number: 2\n",
            "2\n",
            "Enter a number: -1\n"
          ]
        }
      ],
      "source": [
        "while True:\n",
        "    number = int(input('Enter a number: '))\n",
        "    if number == -1:\n",
        "          break\n",
        "    print (number)"
      ]
    },
    {
      "cell_type": "markdown",
      "metadata": {
        "id": "21RlFJz7ZR0t"
      },
      "source": [
        "#### <p style=\"font-family: Arial; font-size:1.4em; background-color: yellow; color:black;\"> Problem #5.2  </p>\n",
        "#### Complete the code that input a word until the input value is 'stop'\n",
        "> Use the while loop and break"
      ]
    },
    {
      "cell_type": "code",
      "execution_count": 119,
      "metadata": {
        "colab": {
          "base_uri": "https://localhost:8080/"
        },
        "id": "pH94iIkLZR01",
        "outputId": "8dd9808c-52f5-48d4-98ae-65e5ebec46ec"
      },
      "outputs": [
        {
          "name": "stdout",
          "output_type": "stream",
          "text": [
            "Enter a word: enter\n",
            "enter\n",
            "Enter a word: stop\n"
          ]
        }
      ],
      "source": [
        "while True:\n",
        "    word = input('Enter a word: ')\n",
        "    if word == \"stop\":\n",
        "        break\n",
        "    print(word)"
      ]
    },
    {
      "cell_type": "markdown",
      "metadata": {
        "id": "acrNEHGaZR02"
      },
      "source": [
        "## Don't forget to <font color='red'> **\"commit\"** </font> your work or <font color='red'> **\"save\"** </font> in Google Colab\n",
        "## before moving to the next section."
      ]
    },
    {
      "cell_type": "markdown",
      "metadata": {
        "id": "IdLPDJ22ZR02"
      },
      "source": [
        "***\n",
        "## <p style=\"background-color: grey; color: white\">  ◼️ While-else for-else </p>\n",
        "# <p style=\"font-family: Arial; font-size:1.4em;color:red;\"> 6. while-else for-else </p>\n",
        "### While and for loop also has the \"else\" clause"
      ]
    },
    {
      "cell_type": "markdown",
      "metadata": {
        "id": "ZMtl_GJeZR02"
      },
      "source": [
        "#### With the else statement we can run a block of code once when the condition no longer is true:"
      ]
    },
    {
      "cell_type": "code",
      "execution_count": null,
      "metadata": {
        "id": "mry3oP0cZR02",
        "outputId": "875ff560-56b5-4d86-a33c-530d93132c8f"
      },
      "outputs": [
        {
          "name": "stdout",
          "output_type": "stream",
          "text": [
            "1 2 3 4 5 6 7 8 9 \n",
            "i is no longer less than 10\n"
          ]
        }
      ],
      "source": [
        "i = 1\n",
        "while i < 10:\n",
        "  print(i, end=' ')\n",
        "  i += 1\n",
        "else:\n",
        "  print(\"\\ni is no longer less than 10\")"
      ]
    },
    {
      "cell_type": "markdown",
      "metadata": {
        "id": "MFYFzf6ZZR03"
      },
      "source": [
        "#### What is the difference with the following code?"
      ]
    },
    {
      "cell_type": "markdown",
      "metadata": {
        "id": "E6lLd-H1ZR03"
      },
      "source": [
        "There is no difference between two while-loops."
      ]
    },
    {
      "cell_type": "code",
      "execution_count": null,
      "metadata": {
        "id": "5S0X_1TjZR03",
        "outputId": "b912f3cc-5925-43c7-e20d-985470747e21"
      },
      "outputs": [
        {
          "name": "stdout",
          "output_type": "stream",
          "text": [
            "1 2 3 4 5 6 7 8 9 \n",
            "i is no longer less than 10\n"
          ]
        }
      ],
      "source": [
        "i = 1\n",
        "while i < 10:\n",
        "  print(i, end=' ')\n",
        "  i += 1\n",
        "print(\"\\ni is no longer less than 10\")"
      ]
    },
    {
      "cell_type": "markdown",
      "metadata": {
        "id": "ygNqExdBZR04"
      },
      "source": [
        "#### <p style=\"font-family: Arial; font-size:1.4em; background-color: yellow; color:black;\"> Problem #6.1  </p>\n",
        "#### Run the following example to see the difference\n",
        "#### At the 1st try, use the input series 10, 15, 20, 25, 30\n",
        "#### At the 2nd try, use the input series 10, 15, -1 <font color='red'> ⚠️ \"else\" part will not be executed"
      ]
    },
    {
      "cell_type": "code",
      "execution_count": null,
      "metadata": {
        "id": "yG5biBzPZR04",
        "outputId": "464f36a8-b5e6-467e-d43a-12890d99d58d"
      },
      "outputs": [
        {
          "name": "stdout",
          "output_type": "stream",
          "text": [
            "1 2 -1 "
          ]
        }
      ],
      "source": [
        "i = 0\n",
        "while i < 5:\n",
        "    number = int(input('Enter a number: '))\n",
        "    print (number, end= ' ')\n",
        "    if number == -1:\n",
        "        break\n",
        "    i += 1\n",
        "else:\n",
        "    print ('Executed while-else part')\n"
      ]
    },
    {
      "cell_type": "markdown",
      "metadata": {
        "id": "mEA4DX_cZR05"
      },
      "source": [
        "#### <p style=\"font-family: Arial; font-size:1.4em; background-color: yellow; color:black;\"> Problem #6.2  </p>\n",
        "#### Write a code to decide all the elements in the list are positive or not"
      ]
    },
    {
      "cell_type": "markdown",
      "metadata": {
        "id": "wdrVJTTvZR05"
      },
      "source": [
        "#### [Version 1]"
      ]
    },
    {
      "cell_type": "code",
      "execution_count": null,
      "metadata": {
        "id": "4S_CXxyqZR06",
        "outputId": "006bf086-724d-4ffc-b30a-fea2506e30f9"
      },
      "outputs": [
        {
          "name": "stdout",
          "output_type": "stream",
          "text": [
            "All elements are not positive value\n"
          ]
        }
      ],
      "source": [
        "mylist = [1,2,-3, 4, 5]\n",
        "\n",
        "flag = True\n",
        "for v in mylist:\n",
        "    if v < 0:\n",
        "        flag = False\n",
        "\n",
        "if flag:\n",
        "    print ('All elements are positive value')\n",
        "else:\n",
        "    print ('All elements are not positive value')"
      ]
    },
    {
      "cell_type": "markdown",
      "metadata": {
        "id": "v73D4ogOZR06"
      },
      "source": [
        "#### [Version 2]\n",
        "#### for-else has advantage when you check the condition \"for all elements\""
      ]
    },
    {
      "cell_type": "code",
      "execution_count": null,
      "metadata": {
        "id": "i1QjjMDVZR06",
        "outputId": "effd9909-4895-46e9-9f36-705e5dd23c2f"
      },
      "outputs": [
        {
          "name": "stdout",
          "output_type": "stream",
          "text": [
            "All elements are not positive value\n"
          ]
        }
      ],
      "source": [
        "mylist = [1,2,-3, 4, 5]\n",
        "\n",
        "for v in mylist:\n",
        "    if v < 0:\n",
        "        print ('All elements are not positive value')\n",
        "        break\n",
        "else:\n",
        "    print ('All elements are positive value')"
      ]
    },
    {
      "cell_type": "markdown",
      "metadata": {
        "id": "L5ZjEyOcZR07"
      },
      "source": [
        "#### <p style=\"font-family: Arial; font-size:1.4em; background-color: yellow; color:black;\"> Problem #6.3  </p>\n",
        "#### Write a code to determine if the list contains an element that matches the input number"
      ]
    },
    {
      "cell_type": "code",
      "execution_count": null,
      "metadata": {
        "id": "25Vd3TMhZR07"
      },
      "outputs": [],
      "source": [
        "number = int(input('Enter a number: '))\n",
        "mylist = [10, 12, 14, 16, 18, 20]\n",
        "\n",
        "for i in range(len(mylist)):\n",
        "    if number == mylist[i]:\n",
        "        print (f'The value {number} is in the list')\n",
        "        # complete the code\n",
        "else:\n",
        "    print (f'The value {number} is not in the list')"
      ]
    },
    {
      "cell_type": "markdown",
      "metadata": {
        "id": "0Tj0E7LIZR07"
      },
      "source": [
        "## Don't forget to <font color='red'> **\"commit\"** </font> your work or <font color='red'> **\"save\"** </font> in Google Colab\n",
        "## before moving to the next section."
      ]
    },
    {
      "cell_type": "markdown",
      "metadata": {
        "id": "0e32DHdSZR08"
      },
      "source": [
        "***\n",
        "## <p style=\"background-color: grey; color: white\">  ◼️ Input Validation </p>\n",
        "# <p style=\"font-family: Arial; font-size:1.4em;color:red;\"> 7. Input Validation </p>"
      ]
    },
    {
      "cell_type": "markdown",
      "metadata": {
        "id": "hD5ouLCoZR08"
      },
      "source": [
        "#### Complete the following code segments and run it\n",
        "#### Figure out the code algorithms"
      ]
    },
    {
      "cell_type": "markdown",
      "metadata": {
        "id": "EaammOcbZR08"
      },
      "source": [
        "#### Code that checks whether the input number is between 0 and 100"
      ]
    },
    {
      "cell_type": "code",
      "execution_count": null,
      "metadata": {
        "id": "hAUpsFMMZR09",
        "outputId": "df089b25-cb8d-4e6f-cf11-cf4a758f5e3f"
      },
      "outputs": [
        {
          "name": "stdout",
          "output_type": "stream",
          "text": [
            "10\n"
          ]
        }
      ],
      "source": [
        "\n",
        "number = int(input('Enter your input'))\n",
        "\n",
        "while ( number < 0 or number > 100):\n",
        "\tnumber = int(input('The input should be between 0 and 100'))\n",
        "\n",
        "print (number)\n"
      ]
    },
    {
      "cell_type": "markdown",
      "metadata": {
        "id": "sxQT-wrjZR09"
      },
      "source": [
        "#### Print a character until 'q' is entered\n"
      ]
    },
    {
      "cell_type": "code",
      "execution_count": null,
      "metadata": {
        "id": "-k65PxF3ZR0-",
        "outputId": "4207c8bf-ad0e-47ee-c966-f0517ef29f3a"
      },
      "outputs": [
        {
          "name": "stdout",
          "output_type": "stream",
          "text": [
            "a b d d e s "
          ]
        }
      ],
      "source": [
        "user_char =  input('Enter your character')\n",
        "\n",
        "while( user_char != 'q'):\n",
        "\tprint (user_char, end=' ')\n",
        "\tuser_char =  input('Enter your character')\n"
      ]
    },
    {
      "cell_type": "markdown",
      "metadata": {
        "id": "yWaXhhguZR0-"
      },
      "source": [
        "#### <p style=\"font-family: Arial; font-size:1.4em; background-color: yellow; color:black;\"> Problem #7.1  </p>\n",
        "#### Complete the code using \"try-except\" clause to decide whether the input causes an \"ValueError\" or not"
      ]
    },
    {
      "cell_type": "markdown",
      "metadata": {
        "id": "O-xIh8ewZR0_"
      },
      "source": [
        "## Try-except statement\n",
        "> learn more about \"try-except\" throught the [link](https://docs.python.org/3/tutorial/errors.html) <br>\n",
        "> [another resource to learn try-except](https://python101.pythonlibrary.org/chapter7_exception_handling.html)\n",
        "#### Try to input the \"non integer value\" like a letter"
      ]
    },
    {
      "cell_type": "code",
      "execution_count": null,
      "metadata": {
        "id": "fDYjCgtoZR0_",
        "outputId": "6d64480e-7040-4a12-d09f-ece79529f376"
      },
      "outputs": [
        {
          "name": "stdout",
          "output_type": "stream",
          "text": [
            "Invalid input: Value Error\n",
            "10\n"
          ]
        }
      ],
      "source": [
        "try:\n",
        "\tuser_num = int(input('Enter a number'))\n",
        "except ValueError:\n",
        "\tprint ('Invalid input: Value Error')\n",
        "\n",
        "print (user_num)"
      ]
    },
    {
      "cell_type": "markdown",
      "metadata": {
        "id": "2BU28FbuZR0_"
      },
      "source": [
        "#### input a number until it is valid"
      ]
    },
    {
      "cell_type": "code",
      "execution_count": null,
      "metadata": {
        "id": "NDtGBlr4ZR0_"
      },
      "outputs": [],
      "source": [
        "while True:\n",
        "\ttry:\n",
        "\t\tuser_num = int(input('Enter a number'))\n",
        "\texcept ValueError:\n",
        "\t\tprint ('Invalid input: Value Error')\n",
        "\t\tcontinue\n",
        "\telse:\n",
        "\t\tprint (user_num)\n",
        "\t\tbreak"
      ]
    },
    {
      "cell_type": "markdown",
      "metadata": {
        "id": "wteFsIL-ZR1A"
      },
      "source": [
        "## Don't forget to <font color='red'> **\"commit\"** </font> your work or <font color='red'> **\"save\"** </font> in Google Colab\n",
        "## before moving to the next section."
      ]
    },
    {
      "cell_type": "markdown",
      "metadata": {
        "id": "2qRan9XEZR1A"
      },
      "source": [
        "***\n",
        "## <p style=\"background-color:grey; color:white\">  ◼️ Nested Loop  </p>\n",
        "# <p style=\"font-family: Arial; font-size:1.4em;color:red;\"> 8. Nested Loop </p>\n",
        "\n",
        "#### Check out the following example codes and figure out the results\n"
      ]
    },
    {
      "cell_type": "markdown",
      "metadata": {
        "id": "fwQb5Q7bZR1A"
      },
      "source": [
        "#### All combinations of Set A (0, 1, 2) and Set B (0, 1, 2, 3, 4)\n",
        "```\n",
        "(0, 0) (0, 1) (0, 2) (0, 3) (0, 4)\n",
        "(1, 0) (1, 1) (1, 2) (1, 3) (1, 4)\n",
        "(2, 0) (2, 1) (2, 2) (2, 3) (2, 4)\n",
        "```"
      ]
    },
    {
      "cell_type": "code",
      "execution_count": null,
      "metadata": {
        "id": "NkSomzfbZR1B"
      },
      "outputs": [],
      "source": [
        "for i in range(3):\n",
        "    for j in range(5):\n",
        "        print (i, j)"
      ]
    },
    {
      "cell_type": "code",
      "execution_count": null,
      "metadata": {
        "id": "qsfCw7XpZR1B"
      },
      "outputs": [],
      "source": [
        "for i in range(3):\n",
        "\tfor j in range(5):\n",
        "\t\tprint (f'({i}, {j})', end=' ')\n",
        "\tprint ()"
      ]
    },
    {
      "cell_type": "markdown",
      "metadata": {
        "id": "b8BKZ7D5ZR1B"
      },
      "source": [
        "#### <p style=\"font-family: Arial; font-size:1.4em; background-color: yellow; color:black;\"> Problem #8.1  </p>\n",
        "#### Complete the code in the nested for loop to print the result below\n",
        "```\n",
        "(0, 0) (0, 1) (0, 2)\n",
        "(1, 0) (1, 1) (1, 2)\n",
        "(2, 0) (2, 1) (2, 2)\n",
        "(3, 0) (3, 1) (3, 2)\n",
        "(4, 0) (4, 1) (4, 2)\n",
        "```\n"
      ]
    },
    {
      "cell_type": "code",
      "execution_count": null,
      "metadata": {
        "id": "7DDCno-YZR1C"
      },
      "outputs": [],
      "source": [
        "for i in range(# Complete the code):\n",
        "    for j in range(# Complete the code):\n",
        "        print (f'({i}, {j})', end=' ')\n",
        "    print()"
      ]
    },
    {
      "cell_type": "markdown",
      "metadata": {
        "id": "-Hz6WqfvZR1C"
      },
      "source": [
        "#### <p style=\"font-family: Arial; font-size:1.4em; background-color: yellow; color:black;\"> Problem #8.2  </p>\n",
        "#### Complete the code in the nested for loop to print the result below\n",
        "```\n",
        "(0, 0) (0, 1) (0, 2) (0, 3)\n",
        "(1, 0) (1, 1) (1, 2) (1, 3)\n",
        "(2, 0) (2, 1) (2, 2) (2, 3)\n",
        "```\n"
      ]
    },
    {
      "cell_type": "code",
      "execution_count": null,
      "metadata": {
        "id": "IiM7cEboZR1C"
      },
      "outputs": [],
      "source": [
        "for i in range(# Complete the code):\n",
        "    for j in range(# Complete the code):\n",
        "        print (f'({i}, {j})', end=' ')\n",
        "    print()"
      ]
    },
    {
      "cell_type": "markdown",
      "metadata": {
        "id": "PmONbT32ZR1D"
      },
      "source": [
        "#### <p style=\"font-family: Arial; font-size:1.4em; background-color: yellow; color:black;\"> Problem #8.3  </p>\n",
        "#### Expect the output result before executing the code cell  \n",
        "```\n",
        "Explain the result. why?\n",
        "```\n"
      ]
    },
    {
      "cell_type": "code",
      "execution_count": null,
      "metadata": {
        "id": "lTG_pG-UZR1E",
        "outputId": "7d65c4b4-d027-4267-dd87-d966d366cc76"
      },
      "outputs": [
        {
          "name": "stdout",
          "output_type": "stream",
          "text": [
            "(9,0) (9,1) (9,2) \n",
            "(8,0) (8,1) (8,2) \n",
            "(7,0) (7,1) (7,2) \n"
          ]
        }
      ],
      "source": [
        "for i in range(9,6,-1):\n",
        "\tfor j in range(3):\n",
        "\t\tprint (f'({i},{j})', end=' ')\n",
        "\tprint ()"
      ]
    },
    {
      "cell_type": "markdown",
      "metadata": {
        "id": "dB5KoVoVZR1E"
      },
      "source": [
        "#### Your answer:\n",
        "#### What is the output? Why?\n",
        "***"
      ]
    },
    {
      "cell_type": "code",
      "execution_count": null,
      "metadata": {
        "id": "j0x-P_cNZR1F"
      },
      "outputs": [],
      "source": [
        "for i in range(5):\n",
        "\tfor j in range(i, 5):\n",
        "\t\tprint (f'({i},{j})', end=' ')\n",
        "\tprint()"
      ]
    },
    {
      "cell_type": "markdown",
      "metadata": {
        "id": "_t9aVjJ9ZR1G"
      },
      "source": [
        "#### Your answer:\n",
        "#### What is the output? Why?\n",
        "***"
      ]
    },
    {
      "cell_type": "code",
      "execution_count": null,
      "metadata": {
        "id": "0xKX6VEpZR1H"
      },
      "outputs": [],
      "source": [
        "for i in range(3):\n",
        "\tfor j in range(i,3):\n",
        "\t\tprint (f'({i},{j})', end=' ')\n",
        "\tprint ( )"
      ]
    },
    {
      "cell_type": "markdown",
      "metadata": {
        "id": "mLBCevFhZR1I"
      },
      "source": [
        "#### Your answer:\n",
        "#### What is the output? Why?\n",
        "***"
      ]
    },
    {
      "cell_type": "code",
      "execution_count": null,
      "metadata": {
        "id": "F2YrjgM9ZR1I"
      },
      "outputs": [],
      "source": [
        "for i in range(5):\n",
        "\tfor j in range(0, i):\n",
        "\t\tprint (f'({i},{j})', end=' ')\n",
        "\tprint ( )"
      ]
    }
  ],
  "metadata": {
    "interpreter": {
      "hash": "a614fddea9d37e019a720cc724ab725ff28be4e0e64e91a691a8738e1909110d"
    },
    "kernelspec": {
      "display_name": "Python 3.9.7 64-bit ('base': conda)",
      "language": "python",
      "name": "python3"
    },
    "language_info": {
      "codemirror_mode": {
        "name": "ipython",
        "version": 3
      },
      "file_extension": ".py",
      "mimetype": "text/x-python",
      "name": "python",
      "nbconvert_exporter": "python",
      "pygments_lexer": "ipython3",
      "version": "3.9.17"
    },
    "orig_nbformat": 4,
    "colab": {
      "provenance": []
    }
  },
  "nbformat": 4,
  "nbformat_minor": 0
}